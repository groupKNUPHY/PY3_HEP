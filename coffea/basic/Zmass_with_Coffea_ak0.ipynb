{
 "cells": [
  {
   "cell_type": "markdown",
   "metadata": {
    "id": "kEZRrgS9N4DP"
   },
   "source": [
    "### 1. Set file path and Setup tools"
   ]
  },
  {
   "cell_type": "code",
   "execution_count": 1,
   "metadata": {
    "id": "u4U6aOhSGZzu"
   },
   "outputs": [],
   "source": [
    "import numpy as np\n",
    "import awkward as ak\n",
    "from coffea.nanoaod import NanoEvents\n",
    "from uproot_methods import TLorentzVectorArray\n",
    "import time"
   ]
  },
  {
   "cell_type": "markdown",
   "metadata": {
    "id": "EmBkkVSPOChO"
   },
   "source": [
    "### 2. JaggedArray based analysis"
   ]
  },
  {
   "cell_type": "code",
   "execution_count": 2,
   "metadata": {
    "id": "ANPvbC2FGfyw"
   },
   "outputs": [
    {
     "name": "stderr",
     "output_type": "stream",
     "text": [
      "/home/jkim/miniconda3/envs/pyHEP/lib/python3.8/site-packages/coffea/util.py:98: Awkward0Warning: In coffea version 0.7 (target date: January 2021), this will be an error.\n",
      "(Set awkward1.deprecations_as_errors = True to get a stack trace now.)\n",
      "TypeError: <class 'coffea.nanoaod.nanoevents.NanoEvents'> relies exclusively on awkward 0.x and will be removed in upcoming versions of coffea!\n",
      "  warnings.warn(message, Awkward0Warning)\n",
      "/home/jkim/miniconda3/envs/pyHEP/lib/python3.8/site-packages/coffea/util.py:98: Awkward0Warning: In coffea version 0.7 (target date: January 2021), this will be an error.\n",
      "(Set awkward1.deprecations_as_errors = True to get a stack trace now.)\n",
      "TypeError: <class 'coffea.nanoaod.nanoevents.NanoCollection'> relies exclusively on awkward 0.x and will be removed in upcoming versions of coffea!\n",
      "  warnings.warn(message, Awkward0Warning)\n"
     ]
    }
   ],
   "source": [
    "## Read events\n",
    "files = '/home/jkim/gitdir/PY3_HEP/coffea/data/280000/9F2BDB90-EAF5-B649-9DB1-71C1DE58252D.root'\n",
    "events = NanoEvents.from_file(files)"
   ]
  },
  {
   "cell_type": "code",
   "execution_count": 3,
   "metadata": {
    "id": "mP1fuBieGiTG"
   },
   "outputs": [],
   "source": [
    "## Read Electron\n",
    "Electron = events.Electron"
   ]
  },
  {
   "cell_type": "code",
   "execution_count": 4,
   "metadata": {
    "colab": {
     "base_uri": "https://localhost:8080/"
    },
    "id": "TllFPPesGkVm",
    "outputId": "e73c0141-0f4a-4f37-8526-9bfcd2550a1d"
   },
   "outputs": [
    {
     "data": {
      "text/plain": [
       "<JaggedArray [[] [] [] ... [False] [False] []] at 0x7f334ce99a00>"
      ]
     },
     "execution_count": 4,
     "metadata": {},
     "output_type": "execute_result"
    }
   ],
   "source": [
    "## Electron selection cut criteria ( We call it Electron cut-mask)\n",
    "Electron_mask = (Electron.pt >20) & (np.abs(Electron.eta) < 2.5) & (Electron.cutBased > 1) \n",
    "Electron_mask "
   ]
  },
  {
   "cell_type": "code",
   "execution_count": 5,
   "metadata": {},
   "outputs": [],
   "source": [
    "Ele_Sel_mask = Electron[Electron_mask].counts > 1"
   ]
  },
  {
   "cell_type": "code",
   "execution_count": 6,
   "metadata": {},
   "outputs": [],
   "source": [
    "Ele_channel_events = events[Ele_Sel_mask]"
   ]
  },
  {
   "cell_type": "code",
   "execution_count": 7,
   "metadata": {},
   "outputs": [],
   "source": [
    "Ele = Ele_channel_events.Electron"
   ]
  },
  {
   "cell_type": "code",
   "execution_count": 21,
   "metadata": {},
   "outputs": [],
   "source": [
    "# All possible pairs of Electron in each event\n",
    "ele_pairs = Ele.distincts()\n",
    "\n",
    "# TLorentz vector sum of ele_pairs\n",
    "diele = ele_pairs.i0+ele_pairs.i1\n",
    "\n",
    "\n",
    "# Choose different sign pair\n",
    "diffsign_diele =  diele[diele.charge==0]\n",
    "\n",
    "\n",
    "# choose maximum pt pair\n",
    "leading_diffsign_diele = diffsign_diele[diffsign_diele.pt.argmax()]\n"
   ]
  },
  {
   "cell_type": "code",
   "execution_count": 23,
   "metadata": {},
   "outputs": [],
   "source": [
    "Mee = leading_diffsign_diele.mass.content"
   ]
  },
  {
   "cell_type": "code",
   "execution_count": 24,
   "metadata": {
    "id": "xuMXayB1Lo3n"
   },
   "outputs": [],
   "source": [
    "import mplhep as hep\n",
    "import matplotlib.pyplot as plt"
   ]
  },
  {
   "cell_type": "code",
   "execution_count": 25,
   "metadata": {
    "colab": {
     "base_uri": "https://localhost:8080/",
     "height": 620
    },
    "id": "qhmSl52sMoq_",
    "outputId": "5d1d224a-af18-49a7-ba75-c4b984791011"
   },
   "outputs": [
    {
     "data": {
      "text/plain": [
       "<matplotlib.legend.Legend at 0x7f3348042a60>"
      ]
     },
     "execution_count": 25,
     "metadata": {},
     "output_type": "execute_result"
    },
    {
     "data": {
      "image/png": "[encoded data removed]",
      "text/plain": [
       "<Figure size 504x504 with 1 Axes>"
      ]
     },
     "metadata": {
      "needs_background": "light"
     },
     "output_type": "display_data"
    }
   ],
   "source": [
    "plt.figure(figsize=(7, 7))\n",
    "plt.style.use(hep.style.CMS)\n",
    "plt.hist(Mee,bins=50,color='royalblue',alpha=0.7,label='ee channel')\n",
    "plt.xlim(0,200)\n",
    "plt.xlabel('M(ee) [GeV]',fontsize=25)\n",
    "plt.ylabel('Nuber of events',fontsize=25)\n",
    "plt.yscale('log')\n",
    "plt.legend()"
   ]
  },
  {
   "cell_type": "code",
   "execution_count": null,
   "metadata": {},
   "outputs": [],
   "source": []
  },
  {
   "cell_type": "code",
   "execution_count": null,
   "metadata": {},
   "outputs": [],
   "source": []
  }
 ],
 "metadata": {
  "colab": {
   "collapsed_sections": [],
   "name": "Zmass_with_Coffea.ipynb",
   "provenance": []
  },
  "kernelspec": {
   "display_name": "Python 3",
   "language": "python",
   "name": "python3"
  },
  "language_info": {
   "codemirror_mode": {
    "name": "ipython",
    "version": 3
   },
   "file_extension": ".py",
   "mimetype": "text/x-python",
   "name": "python",
   "nbconvert_exporter": "python",
   "pygments_lexer": "ipython3",
   "version": "3.8.5"
  }
 },
 "nbformat": 4,
 "nbformat_minor": 4
}
