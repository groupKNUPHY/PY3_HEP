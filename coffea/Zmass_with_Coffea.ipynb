{
  "nbformat": 4,
  "nbformat_minor": 0,
  "metadata": {
    "colab": {
      "name": "Zmass_with_Coffea.ipynb",
      "provenance": [],
      "collapsed_sections": []
    },
    "kernelspec": {
      "name": "python3",
      "display_name": "Python 3"
    }
  },
  "cells": [
    {
      "cell_type": "code",
      "metadata": {
        "colab": {
          "base_uri": "https://localhost:8080/"
        },
        "id": "aK2jGArdF5kJ",
        "outputId": "6f17a133-ab10-4f84-bf7f-81c666f28032"
      },
      "source": [
        "## Mount Google drive\n",
        "from google.colab import drive\n",
        "drive.mount(\"/content/drive\")"
      ],
      "execution_count": 1,
      "outputs": [
        {
          "output_type": "stream",
          "text": [
            "Drive already mounted at /content/drive; to attempt to forcibly remount, call drive.mount(\"/content/drive\", force_remount=True).\n"
          ],
          "name": "stdout"
        }
      ]
    },
    {
      "cell_type": "markdown",
      "metadata": {
        "id": "kEZRrgS9N4DP"
      },
      "source": [
        "### 1. Set file path and Setup tools"
      ]
    },
    {
      "cell_type": "code",
      "metadata": {
        "colab": {
          "base_uri": "https://localhost:8080/"
        },
        "id": "diYLNBPwGMaJ",
        "outputId": "85206025-fd92-40a6-934b-57d9dca771cc"
      },
      "source": [
        "!ls drive/My\\ Drive/computing/Pyhep/Coffea/Data\n",
        "files = 'drive/My Drive/computing/Pyhep/Coffea/Data/Zee_Step4_nano.root'"
      ],
      "execution_count": 2,
      "outputs": [
        {
          "output_type": "stream",
          "text": [
            "scheme4_nano.root  Zee_Step4_nano.root\n"
          ],
          "name": "stdout"
        }
      ]
    },
    {
      "cell_type": "code",
      "metadata": {
        "id": "I7uEgXw_GU9H"
      },
      "source": [
        "!pip install coffea"
      ],
      "execution_count": null,
      "outputs": []
    },
    {
      "cell_type": "code",
      "metadata": {
        "id": "u4U6aOhSGZzu"
      },
      "source": [
        "import numpy as np\n",
        "import awkward as ak\n",
        "from coffea.nanoaod import NanoEvents\n",
        "from uproot_methods import TLorentzVectorArray\n",
        "import time"
      ],
      "execution_count": 4,
      "outputs": []
    },
    {
      "cell_type": "markdown",
      "metadata": {
        "id": "EmBkkVSPOChO"
      },
      "source": [
        "###2. JaggedArray based analysis"
      ]
    },
    {
      "cell_type": "code",
      "metadata": {
        "id": "ANPvbC2FGfyw"
      },
      "source": [
        "## Read events\n",
        "events = NanoEvents.from_file(files)"
      ],
      "execution_count": 5,
      "outputs": []
    },
    {
      "cell_type": "code",
      "metadata": {
        "id": "mP1fuBieGiTG"
      },
      "source": [
        "## Read Electron\n",
        "Electron = events.Electron"
      ],
      "execution_count": 6,
      "outputs": []
    },
    {
      "cell_type": "code",
      "metadata": {
        "colab": {
          "base_uri": "https://localhost:8080/"
        },
        "id": "TllFPPesGkVm",
        "outputId": "e73c0141-0f4a-4f37-8526-9bfcd2550a1d"
      },
      "source": [
        "## Electron selection cut criteria ( We call it Electron cut-mask)\n",
        "Electron_mask = (Electron.pt >20) & (np.abs(Electron.eta) < 2.5) & (Electron.cutBased > 3) \n",
        "Electron_mask "
      ],
      "execution_count": 7,
      "outputs": [
        {
          "output_type": "execute_result",
          "data": {
            "text/plain": [
              "<JaggedArray [[True] [True False] [True False] ... [True True] [False] [False]] at 0x7f56c6a4ca90>"
            ]
          },
          "metadata": {
            "tags": []
          },
          "execution_count": 7
        }
      ]
    },
    {
      "cell_type": "code",
      "metadata": {
        "id": "P0kKG_DOG0xP"
      },
      "source": [
        "## Apply Electron selection cut mask\n",
        "Sel_Electron = Electron[Electron_mask]"
      ],
      "execution_count": 8,
      "outputs": []
    },
    {
      "cell_type": "code",
      "metadata": {
        "id": "mf4EIl6TIohY"
      },
      "source": [
        "## Helper function to make Electron-array include P4 ( This code needs study )\n",
        "def make_labeled_p4(x, indices, itype):\n",
        "    p4 = TLorentzVectorArray.from_ptetaphim(x.pt, x.eta, x.phi, x.mass)\n",
        "    return ak.JaggedArray.zip(p4=p4,\n",
        "                              flavor=itype*x.pt.ones_like().astype(np.int),\n",
        "                              pidx=indices,\n",
        "                              charge=x.charge)"
      ],
      "execution_count": 9,
      "outputs": []
    },
    {
      "cell_type": "code",
      "metadata": {
        "id": "kkepgM4OI7x8"
      },
      "source": [
        "## Electron array with P4 \n",
        "sel_electrons_indices = ak.JaggedArray.fromoffsets(Sel_Electron.pt.offsets, \n",
        "                                             np.arange(0, Sel_Electron.pt.content.size)) - Sel_Electron.pt.offsets[:-1]\n",
        "Sel_Electron_P4 =  make_labeled_p4(Sel_Electron, sel_electrons_indices, 1)"
      ],
      "execution_count": 10,
      "outputs": []
    },
    {
      "cell_type": "code",
      "metadata": {
        "id": "njxqS4FcHhY2"
      },
      "source": [
        "## Choose two electron in each events\n",
        "Sel_Electron_pair = Sel_Electron_P4.choose(2)"
      ],
      "execution_count": 11,
      "outputs": []
    },
    {
      "cell_type": "code",
      "metadata": {
        "id": "SRVZoomfHmj9"
      },
      "source": [
        "## Calculate Electron mass\n",
        "Mass_ee = (Sel_Electron_pair.i0.p4 + Sel_Electron_pair.i1.p4).mass"
      ],
      "execution_count": 12,
      "outputs": []
    },
    {
      "cell_type": "code",
      "metadata": {
        "id": "_JTF6L0EKOyp"
      },
      "source": [
        "## Flatten the Jagged array to 1d array\n",
        "hist_Mass_ee = Mass_ee.content\n",
        "print(hist_Mass_ee,len(hist_Mass_ee))"
      ],
      "execution_count": 15,
      "outputs": []
    },
    {
      "cell_type": "markdown",
      "metadata": {
        "id": "CcO3Q5FOPcXs"
      },
      "source": [
        "### 3. Visualization"
      ]
    },
    {
      "cell_type": "code",
      "metadata": {
        "id": "xuMXayB1Lo3n"
      },
      "source": [
        "import mplhep as hep\n",
        "import matplotlib.pyplot as plt"
      ],
      "execution_count": 19,
      "outputs": []
    },
    {
      "cell_type": "code",
      "metadata": {
        "id": "C3gO6NosLwkw"
      },
      "source": [
        "hep.set_style(hep.style.CMS)"
      ],
      "execution_count": 20,
      "outputs": []
    },
    {
      "cell_type": "code",
      "metadata": {
        "colab": {
          "base_uri": "https://localhost:8080/",
          "height": 620
        },
        "id": "qhmSl52sMoq_",
        "outputId": "5d1d224a-af18-49a7-ba75-c4b984791011"
      },
      "source": [
        "plt.hist(hist_Mass_ee,bins=100,label='ee channel')\n",
        "plt.legend()"
      ],
      "execution_count": 24,
      "outputs": [
        {
          "output_type": "execute_result",
          "data": {
            "text/plain": [
              "<matplotlib.legend.Legend at 0x7f56c5cb8588>"
            ]
          },
          "metadata": {
            "tags": []
          },
          "execution_count": 24
        },
        {
          "output_type": "display_data",
          "data": {
            "image/png": "[encoded data removed]",
            "text/plain": [
              "<Figure size 720x720 with 1 Axes>"
            ]
          },
          "metadata": {
            "tags": [],
            "needs_background": "light"
          }
        }
      ]
    }
  ]
}