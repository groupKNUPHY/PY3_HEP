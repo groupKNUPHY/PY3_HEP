{
 "cells": [
  {
   "cell_type": "code",
   "execution_count": 1,
   "metadata": {},
   "outputs": [],
   "source": [
    "import numpy as np\n",
    "import awkward as ak\n",
    "from coffea.nanoaod import NanoEvents\n",
    "from uproot_methods import TLorentzVectorArray\n",
    "import time"
   ]
  },
  {
   "cell_type": "code",
   "execution_count": 6,
   "metadata": {},
   "outputs": [
    {
     "name": "stdout",
     "output_type": "stream",
     "text": [
      "data/NanoAOD_files/scheme4_nano.root\n"
     ]
    }
   ],
   "source": [
    "!ls data/NanoAOD_files/scheme4_nano.root\n",
    "fname = \"data/NanoAOD_files/scheme4_nano.root\""
   ]
  },
  {
   "cell_type": "markdown",
   "metadata": {},
   "source": [
    "- Read event tree"
   ]
  },
  {
   "cell_type": "code",
   "execution_count": 8,
   "metadata": {},
   "outputs": [],
   "source": [
    "events = NanoEvents.from_file(fname)"
   ]
  },
  {
   "cell_type": "code",
   "execution_count": 73,
   "metadata": {},
   "outputs": [
    {
     "data": {
      "text/plain": [
       "17150"
      ]
     },
     "execution_count": 73,
     "metadata": {},
     "output_type": "execute_result"
    }
   ],
   "source": [
    "len(events)"
   ]
  },
  {
   "cell_type": "markdown",
   "metadata": {},
   "source": [
    " - Particle array"
   ]
  },
  {
   "cell_type": "code",
   "execution_count": 9,
   "metadata": {},
   "outputs": [],
   "source": [
    "Electron = events.Electron\n",
    "Muon = events.Muon\n",
    "Photon = events.Photon\n",
    "MET = events.MET"
   ]
  },
  {
   "cell_type": "markdown",
   "metadata": {},
   "source": [
    " ### Particle Selection\n",
    " - MET > 20 GeV\n",
    " - PT$_{e,\\gamma}$ > 20 GeV,  |$\\eta_{l,\\gamma}$| < 2.5,\n",
    " - Electron cutbased_id > 1 ( Loose )\n",
    " - Photon cutbased_id > 0 ( Loose )"
   ]
  },
  {
   "cell_type": "code",
   "execution_count": 168,
   "metadata": {},
   "outputs": [],
   "source": [
    "def Particle_Selection(MET,Electron,Photon):\n",
    "    MET_mask = MET.pt > 20\n",
    "    Electron_mask = (Electron.pt >20) & (np.abs(Electron.eta) < 2.5) & (Electron.cutBased > 1) \n",
    "    #Photon_mask = (Photon.pt > 20 ) & (np.abs(Photon.eta) < 2.5)  & (Photon.genPartFlav == 1) & (Photon.cutBasedBitmap > 0)\n",
    "    \n",
    "    Photon_mask = (Photon.pt > 20 ) & (np.abs(Photon.eta) < 2.5)  & (Photon.cutBasedBitmap > 0)\n",
    "    return(MET_mask,Electron_mask,Photon_mask)"
   ]
  },
  {
   "cell_type": "code",
   "execution_count": 169,
   "metadata": {},
   "outputs": [],
   "source": [
    "MET_mask,Electron_mask,Photon_mask = Particle_Selection(MET,Electron,Photon)"
   ]
  },
  {
   "cell_type": "code",
   "execution_count": 170,
   "metadata": {},
   "outputs": [],
   "source": [
    "Ele_Sel_mask = Electron[Electron_mask].counts > 2\n",
    "Pho_Sel_mask = Photon[Photon_mask].counts > 0\n",
    "\n",
    "Event_mask = Ele_Sel_mask & Pho_Sel_mask "
   ]
  },
  {
   "cell_type": "code",
   "execution_count": 176,
   "metadata": {},
   "outputs": [
    {
     "name": "stdout",
     "output_type": "stream",
     "text": [
      " - Electron Cut Eff: 55.18212211859933 %\n",
      " - Photon Cut Eff: 62.57258490234031 %\n",
      " - Event Selection Eff: 2.1749271137026236%  | number of selected events: 373\n"
     ]
    }
   ],
   "source": [
    "print(\" - Electron Cut Eff: {0} %\".format(\n",
    "    np.sum(Electron_mask.content) /  len(Electron_mask.content) * 100\n",
    "    ))\n",
    "\n",
    "print(\" - Photon Cut Eff: {0} %\".format(\n",
    "    np.sum(Photon_mask.content) /  len(Photon_mask.content) * 100\n",
    "    ))\n",
    "\n",
    "print(\" - Event Selection Eff: {0}%  | number of selected events: {1}\".format(\n",
    "    np.sum(Event_mask) /  len(Event_mask) * 100, np.sum(Event_mask)\n",
    "    ))"
   ]
  },
  {
   "cell_type": "code",
   "execution_count": 172,
   "metadata": {},
   "outputs": [
    {
     "name": "stdout",
     "output_type": "stream",
     "text": [
      "373\n"
     ]
    }
   ],
   "source": [
    "events"
   ]
  },
  {
   "cell_type": "code",
   "execution_count": null,
   "metadata": {},
   "outputs": [],
   "source": [
    "#def delta_r(pair):\n",
    "#    return pair.i0.delta_r(pair.i1)\n",
    "\n",
    "#JselE_pair = Jet.cross(Sel_Electron,nested=True)\n",
    "#dr_JselE_mask = (delta_r(JselE_pair) > 0.3).any()\n",
    "\n",
    "#JselA_pair = Jet.cross(Sel_Photon,nested=True)\n",
    "#dr_JselA_mask = (delta_r(JselA_pair)>0.3).any()\n",
    "\n",
    "\n",
    "#Jet_mask = Jet_basic_mask & dr_JselE_mask & dr_JselA_mask"
   ]
  },
  {
   "cell_type": "code",
   "execution_count": 38,
   "metadata": {},
   "outputs": [],
   "source": [
    "def make_labeled_p4(x, indices, itype):\n",
    "    p4 = TLorentzVectorArray.from_ptetaphim(x.pt, x.eta, x.phi, x.mass)\n",
    "    return ak.JaggedArray.zip(p4=p4,\n",
    "                              flavor=itype*x.pt.ones_like().astype(np.int),\n",
    "                              pidx=indices,\n",
    "                              charge=x.charge)"
   ]
  },
  {
   "cell_type": "code",
   "execution_count": null,
   "metadata": {},
   "outputs": [],
   "source": []
  }
 ],
 "metadata": {
  "kernelspec": {
   "display_name": "Python 3",
   "language": "python",
   "name": "python3"
  },
  "language_info": {
   "codemirror_mode": {
    "name": "ipython",
    "version": 3
   },
   "file_extension": ".py",
   "mimetype": "text/x-python",
   "name": "python",
   "nbconvert_exporter": "python",
   "pygments_lexer": "ipython3",
   "version": "3.8.5"
  }
 },
 "nbformat": 4,
 "nbformat_minor": 4
}
