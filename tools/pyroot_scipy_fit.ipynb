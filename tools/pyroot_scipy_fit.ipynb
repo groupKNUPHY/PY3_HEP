{
 "cells": [
  {
   "cell_type": "markdown",
   "metadata": {},
   "source": [
    "## (1) ROOT with numpy"
   ]
  },
  {
   "cell_type": "code",
   "execution_count": 1,
   "metadata": {},
   "outputs": [
    {
     "name": "stdout",
     "output_type": "stream",
     "text": [
      "Welcome to JupyROOT 6.24/00\n"
     ]
    }
   ],
   "source": [
    "import ROOT\n",
    "import numpy as np\n",
    "from math import sqrt"
   ]
  },
  {
   "cell_type": "code",
   "execution_count": 2,
   "metadata": {},
   "outputs": [],
   "source": [
    "c1 = ROOT.TCanvas(\"c1\",\"c1\",600,600)"
   ]
  },
  {
   "cell_type": "code",
   "execution_count": 2,
   "metadata": {},
   "outputs": [],
   "source": [
    "y=np.array([4.708/5.,9.498/10.,19.01/20.,28.53/30.,47.74/50.,66.67/70.,85.96/90.,105.1/110.])\n",
    "x=np.array([1/sqrt(5),1/sqrt(10),1/sqrt(20),1/sqrt(30),1/sqrt(50),1/sqrt(70),1/sqrt(90),1/sqrt(110)])\n",
    "a=np.array([4.91/5.,9.835/10.,19.7/20.,29.55/30.,49.32/50.,69.08/70.,88.85/90.,108.6/110.])\n",
    "b=np.array([9.638/10.,19.36/20.,38.7/40.,58.08/60.,97.04/100.,135.8/140.,174.9/180.,213.7/220.])"
   ]
  },
  {
   "cell_type": "code",
   "execution_count": 3,
   "metadata": {},
   "outputs": [],
   "source": [
    "mg = ROOT.TMultiGraph()\n",
    "g1 = ROOT.TGraph(8,x,y)\n",
    "g2 = ROOT.TGraph(8,x,a)\n",
    "g3 = ROOT.TGraph(8,x,b)"
   ]
  },
  {
   "cell_type": "code",
   "execution_count": 36,
   "metadata": {},
   "outputs": [],
   "source": [
    "g1.SetMarkerStyle(20);\n",
    "g1.SetMarkerColor(30);\n",
    "g1.SetMarkerSize(1.5);\n",
    "#g1.SetLineColor(6);\n",
    "#g1.SetLineWidth(3);\n",
    "\n",
    "g2.SetMarkerStyle(20);\n",
    "g2.SetMarkerColor(38);\n",
    "g2.SetMarkerSize(1.5);\n",
    "#g2.SetLineColor(3);\n",
    "#g2.SetLineWidth(3);\n",
    "\n",
    "g3.SetMarkerStyle(20);\n",
    "g3.SetMarkerColor(48);\n",
    "g3.SetMarkerSize(1.5);\n",
    "#g3.SetLineColor(5);\n",
    "#g3.SetLineWidth(3);"
   ]
  },
  {
   "cell_type": "code",
   "execution_count": 37,
   "metadata": {},
   "outputs": [
    {
     "name": "stdout",
     "output_type": "stream",
     "text": [
      "\n",
      "****************************************\n",
      "Minimizer is Linear / Migrad\n",
      "Chi2                      =  1.37224e-05\n",
      "NDf                       =            6\n",
      "p0                        =     0.958469   +/-   0.00109093  \n",
      "p1                        =   -0.0349745   +/-   0.0046633   \n",
      "\n",
      "****************************************\n",
      "Minimizer is Linear / Migrad\n",
      "Chi2                      =  8.47714e-07\n",
      "NDf                       =            6\n",
      "p0                        =     0.988525   +/-   0.000271149 \n",
      "p1                        =   -0.0152918   +/-   0.00115905  \n",
      "\n",
      "****************************************\n",
      "Minimizer is Linear / Migrad\n",
      "Chi2                      =  5.73374e-06\n",
      "NDf                       =            6\n",
      "p0                        =     0.972868   +/-   0.000705183 \n",
      "p1                        =   -0.0197476   +/-   0.00301438  \n"
     ]
    }
   ],
   "source": [
    "g1Fit = ROOT.TF1('gFit',\"[]\",-1,86.5)\n",
    "fit1 = g1.Fit(\"pol1\",\"S\")\n",
    "fit2 = g2.Fit(\"pol1\",\"S\")\n",
    "fit3 = g3.Fit(\"pol1\",\"S\")"
   ]
  },
  {
   "cell_type": "code",
   "execution_count": 38,
   "metadata": {},
   "outputs": [
    {
     "data": {
      "image/png": "[encoded data removed]",
      "text/plain": [
       "<IPython.core.display.Image object>"
      ]
     },
     "metadata": {},
     "output_type": "display_data"
    }
   ],
   "source": [
    "mg.Add(g1);\n",
    "mg.Add(g2);\n",
    "mg.Add(g3);\n",
    "\n",
    "leg = ROOT.TLegend()\n",
    "leg.SetTextFont(42)\n",
    "leg.SetTextSize(0.035)\n",
    "leg.AddEntry(g1,\"g1\",\"p\")\n",
    "leg.AddEntry(g2,\"g2\",\"p\")\n",
    "leg.AddEntry(g3,\"g3\",\"p\")\n",
    "mg.Draw(\"AP\");\n",
    "leg.Draw()\n",
    "\n",
    "c1.Update();\n",
    "c1.Draw();"
   ]
  },
  {
   "cell_type": "markdown",
   "metadata": {},
   "source": [
    "##  (2) Python echo-system method: Scipy and Matplotlib"
   ]
  },
  {
   "cell_type": "code",
   "execution_count": 4,
   "metadata": {},
   "outputs": [],
   "source": [
    "from scipy.optimize import curve_fit\n",
    "from scipy import stats"
   ]
  },
  {
   "cell_type": "code",
   "execution_count": 5,
   "metadata": {},
   "outputs": [],
   "source": [
    "def func(x, a, b):\n",
    "    return a*x + b"
   ]
  },
  {
   "cell_type": "code",
   "execution_count": 6,
   "metadata": {},
   "outputs": [],
   "source": [
    "param1, var1 = curve_fit(func, x, y)\n",
    "param2, var2 = curve_fit(func, x, a)\n",
    "param3, var3 = curve_fit(func, x, b)"
   ]
  },
  {
   "cell_type": "code",
   "execution_count": 7,
   "metadata": {},
   "outputs": [],
   "source": [
    "import matplotlib.pyplot as plt"
   ]
  },
  {
   "cell_type": "code",
   "execution_count": 8,
   "metadata": {},
   "outputs": [
    {
     "name": "stdout",
     "output_type": "stream",
     "text": [
      "gr1 : a= -0.03497453570841829, b=0.9584686200264966\n",
      "gr2 : a= -0.01529181155483635, b=0.9885247452664675\n",
      "gr3 : a= -0.019747568230965896, b=0.9728681183804248\n"
     ]
    }
   ],
   "source": [
    "print(\"gr1 : a= {0}, b={1}\".format(param1[0],param1[1]))\n",
    "print(\"gr2 : a= {0}, b={1}\".format(param2[0],param2[1]))\n",
    "print(\"gr3 : a= {0}, b={1}\".format(param3[0],param3[1]))"
   ]
  },
  {
   "cell_type": "code",
   "execution_count": 9,
   "metadata": {},
   "outputs": [
    {
     "name": "stdout",
     "output_type": "stream",
     "text": [
      "Chi squre: Power_divergenceResult(statistic=0.000573073510304453, pvalue=0.9999999999999658) Ndof: 6\n",
      "Chi squre: Power_divergenceResult(statistic=0.00010442589348101985, pvalue=0.9999999999999999) Ndof: 6\n",
      "Chi squre: Power_divergenceResult(statistic=0.003182777512245224, pvalue=0.999999999986195) Ndor: 6\n"
     ]
    }
   ],
   "source": [
    "print(\"Chi squre: {0} Ndof: {1}\".format(stats.chisquare(f_obs=y, f_exp=param1[1]),len(y) - 2))\n",
    "print(\"Chi squre: {0} Ndof: {1}\".format(stats.chisquare(f_obs=a, f_exp=param2[1]),len(a) - 2))\n",
    "print(\"Chi squre: {0} Ndor: {1}\".format(stats.chisquare(f_obs=b, f_exp=param2[1]),len(b) - 2))"
   ]
  },
  {
   "cell_type": "code",
   "execution_count": 12,
   "metadata": {},
   "outputs": [
    {
     "data": {
      "image/png": "[encoded data removed]",
      "text/plain": [
       "<Figure size 576x576 with 1 Axes>"
      ]
     },
     "metadata": {
      "needs_background": "light"
     },
     "output_type": "display_data"
    }
   ],
   "source": [
    "plt.rcParams[\"figure.figsize\"] = (8,8)\n",
    "\n",
    "plt.scatter(x,y,label='g1')\n",
    "plt.scatter(x,a,label='g2')\n",
    "plt.scatter(x,b,label='g3')\n",
    "\n",
    "plt.plot(x, func(x, *param1), color='b', linewidth=2)\n",
    "plt.plot(x, func(x, *param2), color='r', linewidth=2)\n",
    "plt.plot(x, func(x, *param3), color='g', linewidth=2)\n",
    "plt.grid()\n",
    "plt.legend()\n",
    "plt.show()"
   ]
  },
  {
   "cell_type": "markdown",
   "metadata": {},
   "source": [
    "## ROOT Fit with mplHEP"
   ]
  },
  {
   "cell_type": "code",
   "execution_count": 14,
   "metadata": {},
   "outputs": [],
   "source": [
    "y=np.array([4.708/5.,9.498/10.,19.01/20.,28.53/30.,47.74/50.,66.67/70.,85.96/90.,105.1/110.])\n",
    "x=np.array([1/sqrt(5),1/sqrt(10),1/sqrt(20),1/sqrt(30),1/sqrt(50),1/sqrt(70),1/sqrt(90),1/sqrt(110)])\n",
    "a=np.array([4.91/5.,9.835/10.,19.7/20.,29.55/30.,49.32/50.,69.08/70.,88.85/90.,108.6/110.])\n",
    "b=np.array([9.638/10.,19.36/20.,38.7/40.,58.08/60.,97.04/100.,135.8/140.,174.9/180.,213.7/220.])"
   ]
  },
  {
   "cell_type": "code",
   "execution_count": 15,
   "metadata": {},
   "outputs": [],
   "source": [
    "mg = ROOT.TMultiGraph()\n",
    "g1 = ROOT.TGraph(8,x,y)\n",
    "g2 = ROOT.TGraph(8,x,a)\n",
    "g3 = ROOT.TGraph(8,x,b)"
   ]
  },
  {
   "cell_type": "code",
   "execution_count": 16,
   "metadata": {},
   "outputs": [
    {
     "name": "stdout",
     "output_type": "stream",
     "text": [
      "\n",
      "****************************************\n",
      "Minimizer is Linear / Migrad\n",
      "Chi2                      =  1.37224e-05\n",
      "NDf                       =            6\n",
      "p0                        =     0.958469   +/-   0.00109093  \n",
      "p1                        =   -0.0349745   +/-   0.0046633   \n",
      "\n",
      "****************************************\n",
      "Minimizer is Linear / Migrad\n",
      "Chi2                      =  8.47714e-07\n",
      "NDf                       =            6\n",
      "p0                        =     0.988525   +/-   0.000271149 \n",
      "p1                        =   -0.0152918   +/-   0.00115905  \n",
      "\n",
      "****************************************\n",
      "Minimizer is Linear / Migrad\n",
      "Chi2                      =  5.73374e-06\n",
      "NDf                       =            6\n",
      "p0                        =     0.972868   +/-   0.000705183 \n",
      "p1                        =   -0.0197476   +/-   0.00301438  \n"
     ]
    }
   ],
   "source": [
    "g1Fit = ROOT.TF1('gFit',\"[]\",-1,86.5)\n",
    "fit1 = g1.Fit(\"pol1\",\"S\")\n",
    "fit2 = g2.Fit(\"pol1\",\"S\")\n",
    "fit3 = g3.Fit(\"pol1\",\"S\")"
   ]
  },
  {
   "cell_type": "code",
   "execution_count": 17,
   "metadata": {},
   "outputs": [],
   "source": [
    "def func(x,a,b):\n",
    "    return a*x + b"
   ]
  },
  {
   "cell_type": "code",
   "execution_count": 20,
   "metadata": {
    "collapsed": true
   },
   "outputs": [
    {
     "ename": "NameError",
     "evalue": "name 'hep' is not defined",
     "output_type": "error",
     "traceback": [
      "\u001b[0;31m---------------------------------------------------------------------------\u001b[0m",
      "\u001b[0;31mNameError\u001b[0m                                 Traceback (most recent call last)",
      "\u001b[0;32m<ipython-input-20-7f481479e8c4>\u001b[0m in \u001b[0;36m<module>\u001b[0;34m\u001b[0m\n\u001b[0;32m----> 1\u001b[0;31m \u001b[0mhep\u001b[0m\u001b[0;34m.\u001b[0m\u001b[0mstyle\u001b[0m\u001b[0;34m.\u001b[0m\u001b[0muse\u001b[0m\u001b[0;34m(\u001b[0m\u001b[0mhep\u001b[0m\u001b[0;34m.\u001b[0m\u001b[0mstyle\u001b[0m\u001b[0;34m.\u001b[0m\u001b[0mROOT\u001b[0m\u001b[0;34m)\u001b[0m\u001b[0;34m\u001b[0m\u001b[0;34m\u001b[0m\u001b[0m\n\u001b[0m",
      "\u001b[0;31mNameError\u001b[0m: name 'hep' is not defined"
     ]
    }
   ],
   "source": [
    "## -- Looks like ROOT like plot\n",
    "!pip install mplhep\n",
    "import mplhep as hep\n",
    "hep.style.use(hep.style.ROOT)"
   ]
  },
  {
   "cell_type": "code",
   "execution_count": 22,
   "metadata": {},
   "outputs": [
    {
     "data": {
      "image/png": "[encoded data removed]",
      "text/plain": [
       "<Figure size 576x576 with 1 Axes>"
      ]
     },
     "metadata": {
      "needs_background": "light"
     },
     "output_type": "display_data"
    }
   ],
   "source": [
    "import matplotlib.pyplot as plt\n",
    "plt.rcParams[\"figure.figsize\"] = (8,8)\n",
    "\n",
    "plt.scatter(x,y,label='g1')\n",
    "plt.scatter(x,a,label='g2')\n",
    "plt.scatter(x,b,label='g3')\n",
    "\n",
    "plt.plot(x, func(x,-0.0349745,0.958469), color='b', linewidth=2)\n",
    "plt.plot(x, func(x,-0.015291,0.988525), color='r', linewidth=2)\n",
    "plt.plot(x, func(x,-0.0197476,0.972868), color='g', linewidth=2)\n",
    "plt.grid()\n",
    "\n",
    "plt.xlabel('X')\n",
    "plt.legend()\n",
    "plt.show()"
   ]
  },
  {
   "cell_type": "code",
   "execution_count": null,
   "metadata": {},
   "outputs": [],
   "source": []
  }
 ],
 "metadata": {
  "kernelspec": {
   "display_name": "Python 3",
   "language": "python",
   "name": "python3"
  },
  "language_info": {
   "codemirror_mode": {
    "name": "ipython",
    "version": 3
   },
   "file_extension": ".py",
   "mimetype": "text/x-python",
   "name": "python",
   "nbconvert_exporter": "python",
   "pygments_lexer": "ipython3",
   "version": "3.8.6"
  }
 },
 "nbformat": 4,
 "nbformat_minor": 2
}
