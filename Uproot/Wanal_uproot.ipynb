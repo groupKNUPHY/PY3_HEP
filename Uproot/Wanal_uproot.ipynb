{
 "cells": [
  {
   "cell_type": "code",
   "execution_count": 1,
   "metadata": {},
   "outputs": [],
   "source": [
    "import uproot"
   ]
  },
  {
   "cell_type": "code",
   "execution_count": 2,
   "metadata": {},
   "outputs": [],
   "source": [
    "# Read Tree\n",
    "dat = uproot.open('dummy.root')['LHEF']"
   ]
  },
  {
   "cell_type": "code",
   "execution_count": 3,
   "metadata": {},
   "outputs": [
    {
     "name": "stdout",
     "output_type": "stream",
     "text": [
      "<class 'uproot.rootio.TTree'>\n",
      "Event                      TStreamerInfo              asdtype('>i4')\n",
      "Event.fUniqueID            TStreamerBasicType         asjagged(asdtype('>u4'))\n",
      "Event.fBits                TStreamerBasicType         asjagged(asdtype('>u4'))\n",
      "Event.Number               TStreamerBasicType         asjagged(asdtype('>i8'))\n",
      "Event.Nparticles           TStreamerBasicType         asjagged(asdtype('>i4'))\n",
      "Event.ProcessID            TStreamerBasicType         asjagged(asdtype('>i4'))\n",
      "Event.Weight               TStreamerBasicType         asjagged(asdtype('>f8'))\n",
      "Event.ScalePDF             TStreamerBasicType         asjagged(asdtype('>f8'))\n",
      "Event.CouplingQED          TStreamerBasicType         asjagged(asdtype('>f8'))\n",
      "Event.CouplingQCD          TStreamerBasicType         asjagged(asdtype('>f8'))\n",
      "\n",
      "Event_size                 (no streamer)              asdtype('>i4')\n",
      "Rwgt                       TStreamerInfo              asdtype('>i4')\n",
      "Rwgt.fUniqueID             TStreamerBasicType         asjagged(asdtype('>u4'))\n",
      "Rwgt.fBits                 TStreamerBasicType         asjagged(asdtype('>u4'))\n",
      "Rwgt.Weight                TStreamerBasicType         asjagged(asdtype('>f8'))\n",
      "\n",
      "Rwgt_size                  (no streamer)              asdtype('>i4')\n",
      "Particle                   TStreamerInfo              asdtype('>i4')\n",
      "Particle.fUniqueID         TStreamerBasicType         asjagged(asdtype('>u4'))\n",
      "Particle.fBits             TStreamerBasicType         asjagged(asdtype('>u4'))\n",
      "Particle.PID               TStreamerBasicType         asjagged(asdtype('>i4'))\n",
      "Particle.Status            TStreamerBasicType         asjagged(asdtype('>i4'))\n",
      "Particle.Mother1           TStreamerBasicType         asjagged(asdtype('>i4'))\n",
      "Particle.Mother2           TStreamerBasicType         asjagged(asdtype('>i4'))\n",
      "Particle.ColorLine1        TStreamerBasicType         asjagged(asdtype('>i4'))\n",
      "Particle.ColorLine2        TStreamerBasicType         asjagged(asdtype('>i4'))\n",
      "Particle.Px                TStreamerBasicType         asjagged(asdtype('>f8'))\n",
      "Particle.Py                TStreamerBasicType         asjagged(asdtype('>f8'))\n",
      "Particle.Pz                TStreamerBasicType         asjagged(asdtype('>f8'))\n",
      "Particle.E                 TStreamerBasicType         asjagged(asdtype('>f8'))\n",
      "Particle.M                 TStreamerBasicType         asjagged(asdtype('>f8'))\n",
      "Particle.PT                TStreamerBasicType         asjagged(asdtype('>f8'))\n",
      "Particle.Eta               TStreamerBasicType         asjagged(asdtype('>f8'))\n",
      "Particle.Phi               TStreamerBasicType         asjagged(asdtype('>f8'))\n",
      "Particle.Rapidity          TStreamerBasicType         asjagged(asdtype('>f8'))\n",
      "Particle.LifeTime          TStreamerBasicType         asjagged(asdtype('>f8'))\n",
      "Particle.Spin              TStreamerBasicType         asjagged(asdtype('>f8'))\n",
      "\n",
      "Particle_size              (no streamer)              asdtype('>i4')\n",
      "None\n"
     ]
    }
   ],
   "source": [
    "# Show the tree structures\n",
    "print(type(dat))\n",
    "print(dat.show())"
   ]
  },
  {
   "cell_type": "code",
   "execution_count": 4,
   "metadata": {},
   "outputs": [
    {
     "name": "stdout",
     "output_type": "stream",
     "text": [
      "total event:  10000\n"
     ]
    }
   ],
   "source": [
    "# Print total Entries\n",
    "total_event = dat.numentries\n",
    "print(\"total event: \",total_event)"
   ]
  },
  {
   "cell_type": "code",
   "execution_count": 5,
   "metadata": {},
   "outputs": [],
   "source": [
    "# Convert ROOT to jagged-arrays\n",
    "PID_arr, Px_arr,Py_arr,Pz_arr,E_arr = dat.arrays(['Particle.PID','Particle.Px','Particle.Py','Particle.Pz','Particle.E'],outputtype=tuple)"
   ]
  },
  {
   "cell_type": "code",
   "execution_count": 6,
   "metadata": {},
   "outputs": [
    {
     "name": "stdout",
     "output_type": "stream",
     "text": [
      "[12 12 13 ... 13 13 12]\n",
      "[12 12 13 ... 13 13 12]\n",
      "[12 12 13 ... 13 13 12]\n",
      "[12 12 13 ... 13 13 12]\n"
     ]
    }
   ],
   "source": [
    "# Number of values in each event\n",
    "print(PID_arr.count())\n",
    "print(Px_arr.count())\n",
    "print(Py_arr.count())\n",
    "print(Pz_arr.count())"
   ]
  },
  {
   "cell_type": "code",
   "execution_count": 7,
   "metadata": {},
   "outputs": [],
   "source": [
    "import uproot_methods"
   ]
  },
  {
   "cell_type": "code",
   "execution_count": 8,
   "metadata": {},
   "outputs": [],
   "source": [
    "# Grep Electron and Photon P4 using TLorentz Vector\n",
    "elepx,elepy,elepz,eleE = Px_arr[PID_arr == 11], Py_arr[PID_arr == 11],Pz_arr[PID_arr == 11],E_arr[PID_arr == 11]\n",
    "nupx,nupy,nupz,nuE = Px_arr[PID_arr == -12], Py_arr[PID_arr == -12],Pz_arr[PID_arr == -12],E_arr[PID_arr == -12]"
   ]
  },
  {
   "cell_type": "code",
   "execution_count": 9,
   "metadata": {},
   "outputs": [
    {
     "name": "stdout",
     "output_type": "stream",
     "text": [
      "[0 0 1 ... 0 1 1] Electron:  5122 / 10000\n",
      "[0 0 1 ... 0 1 1] Nutrino:  5122 / 10000\n"
     ]
    }
   ],
   "source": [
    "# Check the number of particles in each event \n",
    "print(elepx.count(), \"Electron: \", elepx.count().sum(),\"/\",total_event)\n",
    "print(nupx.count(), \"Nutrino: \",nupx.count().sum(),\"/\",total_event)"
   ]
  },
  {
   "cell_type": "code",
   "execution_count": 10,
   "metadata": {},
   "outputs": [],
   "source": [
    "eleVec = uproot_methods.TLorentzVectorArray.from_cartesian(elepx, elepy, elepz, eleE)\n",
    "nuVec = uproot_methods.TLorentzVectorArray.from_cartesian(nupx, nupy, nupz, nuE)"
   ]
  },
  {
   "cell_type": "code",
   "execution_count": 11,
   "metadata": {},
   "outputs": [],
   "source": [
    "enuVec = eleVec.flatten() + nuVec.flatten()"
   ]
  },
  {
   "cell_type": "code",
   "execution_count": 13,
   "metadata": {},
   "outputs": [],
   "source": [
    "import matplotlib.pyplot as plt\n",
    "import mplhep as hep\n",
    "plt.style.use(hep.style.ROOT)"
   ]
  },
  {
   "cell_type": "code",
   "execution_count": 37,
   "metadata": {},
   "outputs": [],
   "source": [
    "plt.rcParams[\"figure.figsize\"] = (6,6)\n",
    "plt.rcParams['lines.linewidth'] = 4"
   ]
  },
  {
   "cell_type": "code",
   "execution_count": 44,
   "metadata": {},
   "outputs": [
    {
     "data": {
      "image/png": "[encoded data removed]",
      "text/plain": [
       "<Figure size 432x432 with 1 Axes>"
      ]
     },
     "metadata": {
      "needs_background": "light"
     },
     "output_type": "display_data"
    }
   ],
   "source": [
    "plt.hist(enuVec.mt,bins=100,histtype='step')\n",
    "plt.xlim(0,400)\n",
    "plt.title(\"$MT_{e,ve}$\")\n",
    "plt.xlabel(\"$MT_{e,ve}$[GeV]\")\n",
    "plt.ylabel(\"Number of Events\")\n",
    "plt.grid()"
   ]
  },
  {
   "cell_type": "code",
   "execution_count": null,
   "metadata": {},
   "outputs": [],
   "source": []
  }
 ],
 "metadata": {
  "kernelspec": {
   "display_name": "Python 3",
   "language": "python",
   "name": "python3"
  },
  "language_info": {
   "codemirror_mode": {
    "name": "ipython",
    "version": 3
   },
   "file_extension": ".py",
   "mimetype": "text/x-python",
   "name": "python",
   "nbconvert_exporter": "python",
   "pygments_lexer": "ipython3",
   "version": "3.8.5"
  }
 },
 "nbformat": 4,
 "nbformat_minor": 4
}
