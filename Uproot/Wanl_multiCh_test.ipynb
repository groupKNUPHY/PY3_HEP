{
 "cells": [
  {
   "cell_type": "code",
   "execution_count": 1,
   "metadata": {},
   "outputs": [],
   "source": [
    "import uproot as ROOT\n",
    "import uproot_methods as upm\n",
    "import matplotlib.pyplot as plt\n",
    "from matplotlib import rc\n",
    "from matplotlib import font_manager\n",
    "#import mplhep as hep\n",
    "import sys\n",
    "import numpy as np\n",
    "\n",
    "dat = ROOT.open('dummy.root')[\"LHEF\"]\n",
    "\n",
    "\n",
    "## attatch to total events\n",
    "tot_evt = dat.numentries"
   ]
  },
  {
   "cell_type": "code",
   "execution_count": 2,
   "metadata": {},
   "outputs": [
    {
     "name": "stdout",
     "output_type": "stream",
     "text": [
      "Event                      TStreamerInfo              asdtype('>i4')\n",
      "Event.fUniqueID            TStreamerBasicType         asjagged(asdtype('>u4'))\n",
      "Event.fBits                TStreamerBasicType         asjagged(asdtype('>u4'))\n",
      "Event.Number               TStreamerBasicType         asjagged(asdtype('>i8'))\n",
      "Event.Nparticles           TStreamerBasicType         asjagged(asdtype('>i4'))\n",
      "Event.ProcessID            TStreamerBasicType         asjagged(asdtype('>i4'))\n",
      "Event.Weight               TStreamerBasicType         asjagged(asdtype('>f8'))\n",
      "Event.ScalePDF             TStreamerBasicType         asjagged(asdtype('>f8'))\n",
      "Event.CouplingQED          TStreamerBasicType         asjagged(asdtype('>f8'))\n",
      "Event.CouplingQCD          TStreamerBasicType         asjagged(asdtype('>f8'))\n",
      "\n",
      "Event_size                 (no streamer)              asdtype('>i4')\n",
      "Rwgt                       TStreamerInfo              asdtype('>i4')\n",
      "Rwgt.fUniqueID             TStreamerBasicType         asjagged(asdtype('>u4'))\n",
      "Rwgt.fBits                 TStreamerBasicType         asjagged(asdtype('>u4'))\n",
      "Rwgt.Weight                TStreamerBasicType         asjagged(asdtype('>f8'))\n",
      "\n",
      "Rwgt_size                  (no streamer)              asdtype('>i4')\n",
      "Particle                   TStreamerInfo              asdtype('>i4')\n",
      "Particle.fUniqueID         TStreamerBasicType         asjagged(asdtype('>u4'))\n",
      "Particle.fBits             TStreamerBasicType         asjagged(asdtype('>u4'))\n",
      "Particle.PID               TStreamerBasicType         asjagged(asdtype('>i4'))\n",
      "Particle.Status            TStreamerBasicType         asjagged(asdtype('>i4'))\n",
      "Particle.Mother1           TStreamerBasicType         asjagged(asdtype('>i4'))\n",
      "Particle.Mother2           TStreamerBasicType         asjagged(asdtype('>i4'))\n",
      "Particle.ColorLine1        TStreamerBasicType         asjagged(asdtype('>i4'))\n",
      "Particle.ColorLine2        TStreamerBasicType         asjagged(asdtype('>i4'))\n",
      "Particle.Px                TStreamerBasicType         asjagged(asdtype('>f8'))\n",
      "Particle.Py                TStreamerBasicType         asjagged(asdtype('>f8'))\n",
      "Particle.Pz                TStreamerBasicType         asjagged(asdtype('>f8'))\n",
      "Particle.E                 TStreamerBasicType         asjagged(asdtype('>f8'))\n",
      "Particle.M                 TStreamerBasicType         asjagged(asdtype('>f8'))\n",
      "Particle.PT                TStreamerBasicType         asjagged(asdtype('>f8'))\n",
      "Particle.Eta               TStreamerBasicType         asjagged(asdtype('>f8'))\n",
      "Particle.Phi               TStreamerBasicType         asjagged(asdtype('>f8'))\n",
      "Particle.Rapidity          TStreamerBasicType         asjagged(asdtype('>f8'))\n",
      "Particle.LifeTime          TStreamerBasicType         asjagged(asdtype('>f8'))\n",
      "Particle.Spin              TStreamerBasicType         asjagged(asdtype('>f8'))\n",
      "\n",
      "Particle_size              (no streamer)              asdtype('>i4')\n",
      "None\n"
     ]
    }
   ],
   "source": [
    "print(dat.show())"
   ]
  },
  {
   "cell_type": "code",
   "execution_count": 3,
   "metadata": {},
   "outputs": [],
   "source": [
    "PID_arr, Px_arr, Py_arr, Pz_arr, E_arr = dat.arrays(['Particle.PID','Particle.Px','Particle.Py','Particle.Pz','Particle.E'],outputtype=tuple)\n"
   ]
  },
  {
   "cell_type": "code",
   "execution_count": 4,
   "metadata": {},
   "outputs": [
    {
     "name": "stdout",
     "output_type": "stream",
     "text": [
      "[[21 21 6 ... -24 13 -14] [21 21 6 ... -24 13 -14] [21 21 6 ... 11 -12 21] ... [21 21 6 ... 13 -14 21] [21 21 6 ... 11 -12 21] [21 21 6 ... -24 11 -12]]\n"
     ]
    }
   ],
   "source": [
    "print(PID_arr)"
   ]
  },
  {
   "cell_type": "code",
   "execution_count": 5,
   "metadata": {},
   "outputs": [],
   "source": [
    "Ele_PID_arr = []\n",
    "for pid in PID_arr:\n",
    "    if  (11 in pid and -11 in pid):\n",
    "        Ele_PID_arr.append(True)\n",
    "    else:\n",
    "        Ele_PID_arr.append(False)"
   ]
  },
  {
   "cell_type": "code",
   "execution_count": 66,
   "metadata": {},
   "outputs": [],
   "source": [
    "Elec_PID_arr, Elec_Px_arr, Elec_Py_arr, Elec_Pz_arr, Elec_E_arr = PID_arr[Ele_PID_arr], Px_arr[Ele_PID_arr], Py_arr[Ele_PID_arr], Pz_arr[Ele_PID_arr], E_arr[Ele_PID_arr]"
   ]
  },
  {
   "cell_type": "markdown",
   "metadata": {},
   "source": [
    "--- \n",
    "## 여기까지!"
   ]
  },
  {
   "cell_type": "code",
   "execution_count": null,
   "metadata": {},
   "outputs": [],
   "source": [
    "## Convert ROOT to jagged arrays\n",
    "PID_arr, Px_arr, Py_arr, Pz_arr, E_arr = dat.arrays(['Particle.PID','Particle.Px','Particle.Py','Particle.Pz','Particle.E'],outputtype=tuple)\n",
    "\n",
    "## Using TLorentzVector, grep your particles\n",
    "\n",
    "## tbar > bbar, W-, W- > e-,vl~\n",
    "Ele_epx, Ele_epy, Ele_epz, Ele_eE = Px_arr[PID_arr == 11], Py_arr[PID_arr == 11], Pz_arr[PID_arr == 11], E_arr[PID_arr == 11] \n",
    "Ele_bbar_px,Ele_bbar_py,Ele_bbar_p,Ele_bbar_E = Px_arr[PID_arr == 11], Py_arr[PID_arr == 11], Pz_arr[PID_arr == 11], E_arr[PID_arr == 11]\n",
    "\n",
    "em_px, em_py, em_pz, em_E = Px_arr[PID_arr == 11], Py_arr[PID_arr == 11], Pz_arr[PID_arr == 11], E_arr[PID_arr == 11]\n",
    "veb_px, veb_py, veb_pz, veb_E = Px_arr[PID_arr == -12], Py_arr[PID_arr == -12], Pz_arr[PID_arr == -12], E_arr[PID_arr == -12]\n",
    "\n",
    "\n",
    "ep_px, ep_py, ep_pz, ep_E = Px_arr[PID_arr == -11], Py_arr[PID_arr == -11], Pz_arr[PID_arr == -11], E_arr[PID_arr == -11]\n",
    "ve_px, ve_py, ve_pz, ve_E = Px_arr[PID_arr == 12], Py_arr[PID_arr == 12], Pz_arr[PID_arr == 12], E_arr[PID_arr == 12]\n",
    "\n",
    "\n",
    "b_px, b_py, b_pz, b_E = Px_arr[PID_arr == -5], Py_arr[PID_arr == -5], Pz_arr[PID_arr == -5], E_arr[PID_arr == -5]\n",
    "\n",
    "## Set your Lorentz Vectors\n",
    "lm_Vector = upm.TLorentzVectorArray.from_cartesian(lm_px, lm_py, lm_pz, lm_E)\n",
    "vl_Vector = upm.TLorentzVectorArray.from_cartesian(vl_px, vl_py, vl_pz, vl_E)\n",
    "lp_Vector = upm.TLorentzVectorArray.from_cartesian(lp_px, lp_py, lp_pz, lp_E)\n",
    "vlb_Vector = upm.TLorentzVectorArray.from_cartesian(vlb_px, vlb_py, vlb_pz, vlb_E)\n",
    "\n",
    "wm_Vector = lm_Vector.flatten() + vl_Vector.flatten()\n",
    "wp_Vector = lp_Vector.flatten() + vlb_Vector.flatten()\n",
    "\n",
    "\n",
    "## Draw histogram\n",
    "#plt.style.use(hep.style.ROOT)\n",
    "font_path = \"/usr/share/fonts/stix/STIXGeneralItalic.otf\"\n",
    "font_name = font_manager.FontProperties(fname=font_path).get_name()\n",
    "plt.rc('font',family=font_name)\n",
    "plt.rcParams[\"figure.figsize\"] = (10,6)\n",
    "plt.hist(wm_Vector.mt, range=(0,400),bins=400, label='W- boson',color=\"red\", histtype='step')\n",
    "plt.hist(wp_Vector.mt, range=(0,400),bins=400,label='W+ boson',color=\"blue\", histtype='step')\n",
    "plt.xlim(0, 400)\n",
    "plt.rc('xtick',labelsize=10)\n",
    "plt.rc('ytick',labelsize=10)\n",
    "plt.title(\"W m$_{T}$\",fontsize=15)\n",
    "plt.xlabel(\"m$_{T}$ [GeV]\", fontsize=15)\n",
    "plt.ylabel(\"Number of Events | 1 GeV\", fontsize=15)\n",
    "#plt.text(300, 200, \"TEST\",  ha='center',va='center',fontsize=25)\n",
    "plt.minorticks_on()\n",
    "plt.legend(fontsize=15)\n",
    "plt.savefig(\"w_tvmass2.png\")\n",
    "\n",
    "\n"
   ]
  }
 ],
 "metadata": {
  "kernelspec": {
   "display_name": "Python 3",
   "language": "python",
   "name": "python3"
  },
  "language_info": {
   "codemirror_mode": {
    "name": "ipython",
    "version": 3
   },
   "file_extension": ".py",
   "mimetype": "text/x-python",
   "name": "python",
   "nbconvert_exporter": "python",
   "pygments_lexer": "ipython3",
   "version": "3.8.5"
  }
 },
 "nbformat": 4,
 "nbformat_minor": 4
}
